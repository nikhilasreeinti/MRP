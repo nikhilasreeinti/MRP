{
 "cells": [
  {
   "cell_type": "code",
   "execution_count": 2,
   "metadata": {},
   "outputs": [],
   "source": [
    "import pandas as pd\n",
    "\n",
    "# Load the CSV files\n",
    "company_df = pd.read_csv(\"Company.csv\")\n",
    "job_posting_df = pd.read_csv(\"JobPosting.csv\")\n",
    "job_details_df = pd.read_csv(\"JobDetails.csv\")\n"
   ]
  },
  {
   "cell_type": "code",
   "execution_count": 3,
   "metadata": {},
   "outputs": [
    {
     "name": "stdout",
     "output_type": "stream",
     "text": [
      "All CompanyIDs in JobPosting.csv exist in Company.csv.\n",
      "All JobIDs in JobDetails.csv exist in JobPosting.csv.\n"
     ]
    }
   ],
   "source": [
    "### 1. Referential Integrity Checks ###\n",
    "# Check if all CompanyID in JobPosting exist in Company\n",
    "missing_company_ids = set(job_posting_df[\"CompanyID\"]) - set(company_df[\"CompanyID\"])\n",
    "if missing_company_ids:\n",
    "    print(f\"Missing CompanyIDs in Company.csv: {missing_company_ids}\")\n",
    "else:\n",
    "    print(\"All CompanyIDs in JobPosting.csv exist in Company.csv.\")\n",
    "\n",
    "# Check if all JobID in JobDetails exist in JobPosting\n",
    "missing_job_ids = set(job_details_df[\"JobID\"]) - set(job_posting_df[\"JobID\"])\n",
    "if missing_job_ids:\n",
    "    print(f\"Missing JobIDs in JobPosting.csv: {missing_job_ids}\")\n",
    "else:\n",
    "    print(\"All JobIDs in JobDetails.csv exist in JobPosting.csv.\")"
   ]
  },
  {
   "cell_type": "code",
   "execution_count": 4,
   "metadata": {},
   "outputs": [
    {
     "name": "stdout",
     "output_type": "stream",
     "text": [
      "No duplicate CompanyIDs in Company.csv.\n",
      "No null values in Company Name column.\n",
      "No negative values in Company review count.\n"
     ]
    }
   ],
   "source": [
    "### 2. Field-Level Integrity Checks ###\n",
    "\n",
    "# Company.csv Checks\n",
    "if company_df[\"CompanyID\"].duplicated().any():\n",
    "    print(\"Duplicate CompanyIDs found in Company.csv\")\n",
    "else:\n",
    "    print(\"No duplicate CompanyIDs in Company.csv.\")\n",
    "\n",
    "if company_df[\"Company Name\"].isnull().sum() > 0:\n",
    "    print(f\"Null values found in Company Name column: {company_df['Company Name'].isnull().sum()}\")\n",
    "else:\n",
    "    print(\"No null values in Company Name column.\")\n",
    "\n",
    "if (company_df[\"Company review count\"] < 0).any():\n",
    "    print(\"Negative values found in Company review count.\")\n",
    "else:\n",
    "    print(\"No negative values in Company review count.\")\n"
   ]
  },
  {
   "cell_type": "code",
   "execution_count": 5,
   "metadata": {},
   "outputs": [
    {
     "name": "stdout",
     "output_type": "stream",
     "text": [
      "No duplicate JobIDs in JobPosting.csv.\n",
      "No null values in PositionName column.\n",
      "No null values in Location column.\n"
     ]
    }
   ],
   "source": [
    "\n",
    "# JobPosting.csv Checks\n",
    "if job_posting_df[\"JobID\"].duplicated().any():\n",
    "    print(\"Duplicate JobIDs found in JobPosting.csv\")\n",
    "else:\n",
    "    print(\"No duplicate JobIDs in JobPosting.csv.\")\n",
    "\n",
    "if job_posting_df[\"PositionName\"].isnull().sum() > 0:\n",
    "    print(f\"Null values found in PositionName column: {job_posting_df['PositionName'].isnull().sum()}\")\n",
    "else:\n",
    "    print(\"No null values in PositionName column.\")\n",
    "\n",
    "if job_posting_df[\"Location\"].isnull().sum() > 0:\n",
    "    print(f\"Null values found in Location column: {job_posting_df['Location'].isnull().sum()}\")\n",
    "else:\n",
    "    print(\"No null values in Location column.\")\n",
    "\n"
   ]
  },
  {
   "cell_type": "code",
   "execution_count": 8,
   "metadata": {},
   "outputs": [
    {
     "name": "stdout",
     "output_type": "stream",
     "text": [
      "No duplicate DetailIDs in JobDetails.csv.\n",
      "All Rating values are within range (0-5).\n",
      "No negative values in ReviewsCount.\n"
     ]
    }
   ],
   "source": [
    "# JobDetails.csv Checks\n",
    "if job_details_df[\"DetailID\"].duplicated().any():\n",
    "    print(\"Duplicate DetailIDs found in JobDetails.csv\")\n",
    "else:\n",
    "    print(\"No duplicate DetailIDs in JobDetails.csv.\")\n",
    "\n",
    "if not job_details_df[\"Rating\"].between(0, 5, inclusive=\"both\").all():\n",
    "    print(\"Invalid Rating values found (should be between 0 and 5).\")\n",
    "else:\n",
    "    print(\"All Rating values are within range (0-5).\")\n",
    "\n",
    "if (job_details_df[\"ReviewsCount\"] < 0).any():\n",
    "    print(\"Negative values found in ReviewsCount.\")\n",
    "else:\n",
    "    print(\"No negative values in ReviewsCount.\")"
   ]
  },
  {
   "cell_type": "code",
   "execution_count": 6,
   "metadata": {},
   "outputs": [
    {
     "name": "stdout",
     "output_type": "stream",
     "text": [
      "All PostingDateParsed values have valid date formats.\n",
      "All IsExpired values are valid (True/False).\n"
     ]
    }
   ],
   "source": [
    "# Check if PostingDateParsed is a valid date\n",
    "job_posting_df[\"PostingDateParsed\"] = pd.to_datetime(job_posting_df[\"PostingDateParsed\"], errors='coerce')\n",
    "if job_posting_df[\"PostingDateParsed\"].isnull().sum() > 0:\n",
    "    print(f\"Invalid date formats in PostingDateParsed: {job_posting_df['PostingDateParsed'].isnull().sum()} rows\")\n",
    "else:\n",
    "    print(\"All PostingDateParsed values have valid date formats.\")\n",
    "\n",
    "if not job_posting_df[\"IsExpired\"].isin([True, False]).all():\n",
    "    print(\"Invalid values found in IsExpired column (should be True/False).\")\n",
    "else:\n",
    "    print(\"All IsExpired values are valid (True/False).\")\n",
    "\n"
   ]
  }
 ],
 "metadata": {
  "kernelspec": {
   "display_name": "Python 3",
   "language": "python",
   "name": "python3"
  },
  "language_info": {
   "codemirror_mode": {
    "name": "ipython",
    "version": 3
   },
   "file_extension": ".py",
   "mimetype": "text/x-python",
   "name": "python",
   "nbconvert_exporter": "python",
   "pygments_lexer": "ipython3",
   "version": "3.11.9"
  }
 },
 "nbformat": 4,
 "nbformat_minor": 2
}
